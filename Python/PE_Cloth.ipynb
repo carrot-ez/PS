{
  "nbformat": 4,
  "nbformat_minor": 0,
  "metadata": {
    "colab": {
      "name": "PE Cloth.ipynb",
      "provenance": []
    },
    "kernelspec": {
      "name": "python3",
      "display_name": "Python 3"
    }
  },
  "cells": [
    {
      "cell_type": "code",
      "metadata": {
        "id": "jm1Ey-qUHwx-",
        "colab_type": "code",
        "colab": {}
      },
      "source": [
        "def solution(n, lost, reserve):\n",
        "    \n",
        "    student = [ 0 for i in range(n+1) ]\n",
        "    for e in lost :\n",
        "        student[e] -= 1\n",
        "    for e in reserve :\n",
        "        student[e] += 1\n",
        "    \n",
        "    for i in range(1, n+1) :\n",
        "        if student[i] == -1 :\n",
        "            if i-1 >= 0 and student[i-1] >= 1 :\n",
        "                student[i-1] -= 1\n",
        "                student[i] += 1\n",
        "            elif i+1 < n+1 and student[i+1] >= 1 :\n",
        "                student[i+1] -= 1\n",
        "                student[i] += 1\n",
        "    \n",
        "    answer = 0\n",
        "    for i in range(1, n+1) :\n",
        "        if student[i] >= 0 :\n",
        "            answer += 1\n",
        "            \n",
        "    return answer"
      ],
      "execution_count": 1,
      "outputs": []
    },
    {
      "cell_type": "code",
      "metadata": {
        "id": "01HCFIBfITF6",
        "colab_type": "code",
        "colab": {
          "base_uri": "https://localhost:8080/",
          "height": 35
        },
        "outputId": "167b7207-d923-4c83-a51b-e666d3443635"
      },
      "source": [
        "n = 5\n",
        "lost = [2, 4]\n",
        "reserve = [1, 3, 5]\n",
        "solution(n, lost, reserve)"
      ],
      "execution_count": 3,
      "outputs": [
        {
          "output_type": "execute_result",
          "data": {
            "text/plain": [
              "5"
            ]
          },
          "metadata": {
            "tags": []
          },
          "execution_count": 3
        }
      ]
    }
  ]
}