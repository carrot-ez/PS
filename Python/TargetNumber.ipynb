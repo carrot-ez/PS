{
  "nbformat": 4,
  "nbformat_minor": 0,
  "metadata": {
    "colab": {
      "name": "TargetNumber.ipynb",
      "provenance": [],
      "collapsed_sections": []
    },
    "kernelspec": {
      "name": "python3",
      "display_name": "Python 3"
    }
  },
  "cells": [
    {
      "cell_type": "code",
      "metadata": {
        "id": "x-hartH1mOU4",
        "colab_type": "code",
        "colab": {}
      },
      "source": [
        "answer # gloabl var\n",
        "\n",
        "def solution(numbers, target):\n",
        "    global answer\n",
        "    answer = 0\n",
        "    dfs(0, 0, numbers, target)\n",
        "\n",
        "    return answer"
      ],
      "execution_count": 56,
      "outputs": []
    },
    {
      "cell_type": "code",
      "metadata": {
        "id": "BKOnYMIWnMKz",
        "colab_type": "code",
        "colab": {}
      },
      "source": [
        "def dfs(x, idx, numbers, target) :\n",
        "    if idx == len(numbers) :\n",
        "        if x == target : \n",
        "            global answer \n",
        "            answer += 1\n",
        "        return \n",
        "    \n",
        "    dfs(x + numbers[idx], idx+1, numbers, target)\n",
        "    dfs(x - numbers[idx], idx+1, numbers, target)"
      ],
      "execution_count": 57,
      "outputs": []
    },
    {
      "cell_type": "code",
      "metadata": {
        "id": "3bjgAngzyJRj",
        "colab_type": "code",
        "colab": {
          "base_uri": "https://localhost:8080/",
          "height": 35
        },
        "outputId": "3283066c-cada-404d-e2a3-1a7899424c8e"
      },
      "source": [
        "numbers = [1, 1, 1, 1, 1]\n",
        "target = 3\n",
        "solution(numbers, target)"
      ],
      "execution_count": 58,
      "outputs": [
        {
          "output_type": "execute_result",
          "data": {
            "text/plain": [
              "5"
            ]
          },
          "metadata": {
            "tags": []
          },
          "execution_count": 58
        }
      ]
    }
  ]
}