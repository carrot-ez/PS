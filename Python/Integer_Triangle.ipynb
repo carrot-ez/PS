{
  "nbformat": 4,
  "nbformat_minor": 0,
  "metadata": {
    "colab": {
      "name": "Integer Triangle.ipynb",
      "provenance": []
    },
    "kernelspec": {
      "name": "python3",
      "display_name": "Python 3"
    }
  },
  "cells": [
    {
      "cell_type": "markdown",
      "metadata": {
        "id": "QZ_B-qIPAR5v",
        "colab_type": "text"
      },
      "source": [
        "DFS를 이용한 풀이, 시간 초과"
      ]
    },
    {
      "cell_type": "code",
      "metadata": {
        "id": "AyBVNJN-5VZG",
        "colab_type": "code",
        "colab": {}
      },
      "source": [
        "result = []\n",
        "\n",
        "def solution(triangle):\n",
        "    answer = 0\n",
        "    dfs(triangle, 0, 0, 0)\n",
        "\n",
        "    return max(result)\n",
        "\n",
        "def dfs(triangle, prev, index, depth) :\n",
        "    if depth == len(triangle) :\n",
        "        result.append(prev)\n",
        "        return\n",
        "\n",
        "    dfs(triangle, prev + triangle[depth][index], index, depth + 1)\n",
        "    dfs(triangle, prev + triangle[depth][index], index + 1, depth + 1)"
      ],
      "execution_count": 22,
      "outputs": []
    },
    {
      "cell_type": "markdown",
      "metadata": {
        "id": "S3orYJS3F06q",
        "colab_type": "text"
      },
      "source": [
        "DP를 이용한 풀이. 통과"
      ]
    },
    {
      "cell_type": "code",
      "metadata": {
        "id": "7NKYH0LWAWf6",
        "colab_type": "code",
        "colab": {}
      },
      "source": [
        "def solution(triangle):\n",
        "    answer = 0\n",
        "    dp = [ [] for _ in range(len(triangle)) ]\n",
        "    for i in range(len(triangle)) :\n",
        "        dp[i] = [ 0 for _ in range(len(triangle[i]))]\n",
        "    \n",
        "    dp[0][0] = triangle[0][0] \n",
        "    for depth in range(len(triangle) - 1) :\n",
        "        for index in range(len(triangle[depth])) :\n",
        "            dp[depth+1][index] =  max(dp[depth+1][index], dp[depth][index] + triangle[depth+1][index])\n",
        "            dp[depth+1][index+1] = max(dp[depth+1][index+1], dp[depth][index] + triangle[depth+1][index+1])\n",
        "\n",
        "    return max(dp[-1]) "
      ],
      "execution_count": 45,
      "outputs": []
    },
    {
      "cell_type": "code",
      "metadata": {
        "id": "VKRmBzWz5Hwc",
        "colab_type": "code",
        "colab": {
          "base_uri": "https://localhost:8080/",
          "height": 35
        },
        "outputId": "85539010-ae83-4d8c-e794-63a8e105b7a6"
      },
      "source": [
        "triangle = [[7], [3, 8], [8, 1, 0], [2, 7, 4, 4], [4, 5, 2, 6, 5]]\n",
        "\n",
        "solution(triangle)"
      ],
      "execution_count": 46,
      "outputs": [
        {
          "output_type": "execute_result",
          "data": {
            "text/plain": [
              "30"
            ]
          },
          "metadata": {
            "tags": []
          },
          "execution_count": 46
        }
      ]
    }
  ]
}