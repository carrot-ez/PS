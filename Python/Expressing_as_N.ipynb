{
  "nbformat": 4,
  "nbformat_minor": 0,
  "metadata": {
    "colab": {
      "name": "Expressing_as_N.ipynb",
      "provenance": [],
      "collapsed_sections": []
    },
    "kernelspec": {
      "name": "python3",
      "display_name": "Python 3"
    }
  },
  "cells": [
    {
      "cell_type": "code",
      "metadata": {
        "id": "x-hartH1mOU4",
        "colab_type": "code",
        "colab": {}
      },
      "source": [
        "def solution(N, number):\n",
        "    answer = -1\n",
        "    lists = [0]\n",
        "    for i in range(1, 9) :\n",
        "        l = [int(str(N)*i)]\n",
        "        lists.append(l)\n",
        "        \n",
        "        for j in range(1, i) :\n",
        "            for a in lists[j] :\n",
        "                for b in lists[i - j] :\n",
        "                    lists[i].append(a+b)\n",
        "                    lists[i].append(a-b)\n",
        "                    lists[i].append(a*b)\n",
        "                    if b != 0 :\n",
        "                      lists[i].append(a//b)\n",
        "\n",
        "        if number in lists[i] :\n",
        "            answer = i\n",
        "            break\n",
        "\n",
        "    return answer"
      ],
      "execution_count": null,
      "outputs": []
    }
  ]
}