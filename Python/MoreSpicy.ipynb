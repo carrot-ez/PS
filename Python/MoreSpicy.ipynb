{
  "nbformat": 4,
  "nbformat_minor": 0,
  "metadata": {
    "colab": {
      "name": "MoreSpicy.ipynb",
      "provenance": [],
      "collapsed_sections": []
    },
    "kernelspec": {
      "name": "python3",
      "display_name": "Python 3"
    }
  },
  "cells": [
    {
      "cell_type": "code",
      "metadata": {
        "id": "x-hartH1mOU4",
        "colab_type": "code",
        "colab": {}
      },
      "source": [
        "import heapq\n",
        "import traceback\n",
        "\n",
        "# 섞은 음식의 스코빌 지수 = 가장 맵지 않은 음식의 스코빌 지수 + (두 번째로 맵지 않은 음식의 스코빌 지수 * 2)\n",
        "def solution(scoville, K):\n",
        "    answer = 0\n",
        "    heapq.heapify(scoville)\n",
        "    \n",
        "    while scoville[0] < K :\n",
        "        try :\n",
        "            x = heapq.heappop(scoville)\n",
        "            y = heapq.heappop(scoville)\n",
        "            heapq.heappush(scoville, x + y*2)\n",
        "            answer += 1\n",
        "        except Exception as e:\n",
        "            print(e)\n",
        "            answer = -1\n",
        "            break\n",
        "\n",
        "    return answer"
      ],
      "execution_count": 46,
      "outputs": []
    },
    {
      "cell_type": "code",
      "metadata": {
        "id": "cTAXqZ9B6QZy",
        "colab_type": "code",
        "colab": {
          "base_uri": "https://localhost:8080/",
          "height": 35
        },
        "outputId": "b83faeb5-02f9-49bc-bea3-af5db8bb6538"
      },
      "source": [
        "scovile = [1, 2, 3, 9, 10, 12, 13]\n",
        "k = 7\n",
        "solution(scovile, k)"
      ],
      "execution_count": 47,
      "outputs": [
        {
          "output_type": "execute_result",
          "data": {
            "text/plain": [
              "2"
            ]
          },
          "metadata": {
            "tags": []
          },
          "execution_count": 47
        }
      ]
    }
  ]
}