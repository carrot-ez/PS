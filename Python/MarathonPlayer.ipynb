{
  "nbformat": 4,
  "nbformat_minor": 0,
  "metadata": {
    "colab": {
      "name": "MarathonPlayer.ipynb",
      "provenance": [],
      "collapsed_sections": []
    },
    "kernelspec": {
      "name": "python3",
      "display_name": "Python 3"
    }
  },
  "cells": [
    {
      "cell_type": "code",
      "metadata": {
        "id": "x-hartH1mOU4",
        "colab_type": "code",
        "colab": {}
      },
      "source": [
        "def solution(participant, completion) :\n",
        "    d = dict()\n",
        "    diff = 0\n",
        "    for p in participant :\n",
        "        d.update({hash(p) : p})\n",
        "        diff += hash(p)\n",
        "    for c in completion :\n",
        "        diff -= hash(c)\n",
        "\n",
        "    return d.get(diff)"
      ],
      "execution_count": 85,
      "outputs": []
    },
    {
      "cell_type": "code",
      "metadata": {
        "id": "cTAXqZ9B6QZy",
        "colab_type": "code",
        "colab": {
          "base_uri": "https://localhost:8080/",
          "height": 35
        },
        "outputId": "093cb662-4ea3-44c4-a1e0-76b278a1544a"
      },
      "source": [
        "participant = ['leo', 'kiki', 'eden']\n",
        "completion = ['eden', 'kiki']\n",
        "solution(participant, completion)"
      ],
      "execution_count": 84,
      "outputs": [
        {
          "output_type": "execute_result",
          "data": {
            "application/vnd.google.colaboratory.intrinsic+json": {
              "type": "string"
            },
            "text/plain": [
              "'leo'"
            ]
          },
          "metadata": {
            "tags": []
          },
          "execution_count": 84
        }
      ]
    }
  ]
}