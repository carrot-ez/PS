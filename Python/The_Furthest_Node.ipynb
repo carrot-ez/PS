{
  "nbformat": 4,
  "nbformat_minor": 0,
  "metadata": {
    "colab": {
      "name": "The Furthest Node",
      "provenance": []
    },
    "kernelspec": {
      "name": "python3",
      "display_name": "Python 3"
    }
  },
  "cells": [
    {
      "cell_type": "code",
      "metadata": {
        "id": "jm1Ey-qUHwx-",
        "colab_type": "code",
        "colab": {}
      },
      "source": [
        "def solution(n, edge):\n",
        "    adList = [ [] for i in range(n+1) ]\n",
        "\n",
        "    for x, y in edge :\n",
        "        adList[x].append(y)\n",
        "        adList[y].append(x)\n",
        "    \n",
        "    d = [ 0 for i in range(n+1) ]\n",
        "    d[1] = 1\n",
        "    queue = [1]\n",
        "\n",
        "    while queue :\n",
        "        n = queue.pop(0)\n",
        "        for e in adList[n] :\n",
        "            if d[e] == 0 :\n",
        "                queue.append(e)\n",
        "                d[e] = d[n] + 1\n",
        "    \n",
        "    m = max(d)\n",
        "    answer = 0\n",
        "    for e in d :\n",
        "        if e == m :\n",
        "            answer += 1\n",
        "\n",
        "    return answer"
      ],
      "execution_count": null,
      "outputs": []
    },
    {
      "cell_type": "code",
      "metadata": {
        "id": "01HCFIBfITF6",
        "colab_type": "code",
        "colab": {
          "base_uri": "https://localhost:8080/",
          "height": 35
        },
        "outputId": "13385e9e-cac6-4fff-e0f5-084ffbd38e9d"
      },
      "source": [
        "n = 6\n",
        "edge = [[3, 6], [4, 3], [3, 2], [1, 3], [1, 2], [2, 4], [5, 2]]\n",
        "solution(n, edge)"
      ],
      "execution_count": null,
      "outputs": [
        {
          "output_type": "execute_result",
          "data": {
            "text/plain": [
              "3"
            ]
          },
          "metadata": {
            "tags": []
          },
          "execution_count": 32
        }
      ]
    }
  ]
}