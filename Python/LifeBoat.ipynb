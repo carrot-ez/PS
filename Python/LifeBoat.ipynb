{
  "nbformat": 4,
  "nbformat_minor": 0,
  "metadata": {
    "colab": {
      "name": "LifeBoat.ipynb",
      "provenance": [],
      "collapsed_sections": []
    },
    "kernelspec": {
      "name": "python3",
      "display_name": "Python 3"
    }
  },
  "cells": [
    {
      "cell_type": "code",
      "metadata": {
        "id": "jm1Ey-qUHwx-",
        "colab_type": "code",
        "colab": {}
      },
      "source": [
        "# list del 연산 시간이 오래 걸리기 때문에 효율성 실패\n",
        "# 문제도 잘못 이해, 다수의 인원이 탑승 x, 최대 2명 탑승 o\n",
        "\n",
        "def solution(people, limit):\n",
        "    answer = 0\n",
        "    \n",
        "    people.sort()\n",
        "    \n",
        "    while people :\n",
        "        sum = people.pop()\n",
        "        for i, e in enumerate(people) :\n",
        "            if sum + e <= limit :\n",
        "                sum = sum + e\n",
        "                del people[i]\n",
        "            else :\n",
        "                break\n",
        "        answer += 1\n",
        "        \n",
        "    return answer"
      ],
      "execution_count": 8,
      "outputs": []
    },
    {
      "cell_type": "code",
      "metadata": {
        "id": "pdCElGdV9MW9",
        "colab_type": "code",
        "colab": {}
      },
      "source": [
        "# 효율성 문제로 indexing 사용\n",
        "\n",
        "def solution(people, limit):\n",
        "    answer = 0\n",
        "    people.sort()\n",
        "    i = 0\n",
        "    j = len(people) - 1\n",
        "\n",
        "    while i <= j :\n",
        "        sum = people[j]\n",
        "        j -= 1\n",
        "        \n",
        "        if sum + people[i] <= limit:\n",
        "            i += 1\n",
        "        \n",
        "        answer += 1\n",
        "        \n",
        "    return answer"
      ],
      "execution_count": 12,
      "outputs": []
    },
    {
      "cell_type": "code",
      "metadata": {
        "id": "01HCFIBfITF6",
        "colab_type": "code",
        "colab": {
          "base_uri": "https://localhost:8080/",
          "height": 35
        },
        "outputId": "b306af5a-1d50-40f2-a461-e20e5871545e"
      },
      "source": [
        "people = [30, 80, 80]\n",
        "limit = 100\n",
        "\n",
        "solution(people, limit)"
      ],
      "execution_count": 13,
      "outputs": [
        {
          "output_type": "execute_result",
          "data": {
            "text/plain": [
              "3"
            ]
          },
          "metadata": {
            "tags": []
          },
          "execution_count": 13
        }
      ]
    }
  ]
}