{
 "cells": [
  {
   "cell_type": "code",
   "execution_count": 6,
   "metadata": {},
   "outputs": [
    {
     "name": "stdout",
     "output_type": "stream",
     "text": [
      "4 4\n",
      "X...\n",
      "X...\n",
      "....\n",
      "....\n",
      "3\n"
     ]
    }
   ],
   "source": [
    "# Depending the castle\n",
    "N, M = map(int, input().split(' '))\n",
    "\n",
    "row = set()\n",
    "col = set()\n",
    "\n",
    "for i in range(N) :\n",
    "    s = input()\n",
    "    for j in range(len(s)) :\n",
    "        if s[j] == 'X' :\n",
    "            row.add(j)\n",
    "            col.add(i)\n",
    "\n",
    "print(max(M - len(row), N - len(col)))  "
   ]
  }
 ],
 "metadata": {
  "kernelspec": {
   "display_name": "Python 3",
   "language": "python",
   "name": "python3"
  },
  "language_info": {
   "codemirror_mode": {
    "name": "ipython",
    "version": 3
   },
   "file_extension": ".py",
   "mimetype": "text/x-python",
   "name": "python",
   "nbconvert_exporter": "python",
   "pygments_lexer": "ipython3",
   "version": "3.7.6"
  }
 },
 "nbformat": 4,
 "nbformat_minor": 4
}
