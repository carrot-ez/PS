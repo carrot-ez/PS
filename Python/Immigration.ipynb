{
  "nbformat": 4,
  "nbformat_minor": 0,
  "metadata": {
    "colab": {
      "name": "Immigration.ipynb",
      "provenance": []
    },
    "kernelspec": {
      "name": "python3",
      "display_name": "Python 3"
    }
  },
  "cells": [
    {
      "cell_type": "code",
      "metadata": {
        "id": "jm1Ey-qUHwx-",
        "colab_type": "code",
        "colab": {}
      },
      "source": [
        "def solution(n, times):\n",
        "    left = 0\n",
        "    right = max(times) * n\n",
        "    mid = 0\n",
        "    \n",
        "    answer = right\n",
        "    \n",
        "    while left <= right :\n",
        "        mid = (left + right) // 2\n",
        "        sum = 0\n",
        "        for e in times :\n",
        "            sum += mid // e\n",
        "        \n",
        "        if sum >= n :\n",
        "            right = mid - 1\n",
        "            answer = min(answer, mid)\n",
        "        else :\n",
        "            left = mid + 1\n",
        "        \n",
        "    return answer"
      ],
      "execution_count": 5,
      "outputs": []
    },
    {
      "cell_type": "code",
      "metadata": {
        "id": "01HCFIBfITF6",
        "colab_type": "code",
        "colab": {
          "base_uri": "https://localhost:8080/",
          "height": 35
        },
        "outputId": "551145cf-a9a9-4671-a3eb-9fa9805970fe"
      },
      "source": [
        "n = 6\n",
        "times = [7, 10]\n",
        "\n",
        "solution(n, times)"
      ],
      "execution_count": 4,
      "outputs": [
        {
          "output_type": "execute_result",
          "data": {
            "text/plain": [
              "28"
            ]
          },
          "metadata": {
            "tags": []
          },
          "execution_count": 4
        }
      ]
    }
  ]
}