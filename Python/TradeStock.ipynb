{
  "nbformat": 4,
  "nbformat_minor": 0,
  "metadata": {
    "colab": {
      "name": "TradeStock.ipynb",
      "provenance": [],
      "collapsed_sections": []
    },
    "kernelspec": {
      "name": "python3",
      "display_name": "Python 3"
    }
  },
  "cells": [
    {
      "cell_type": "code",
      "metadata": {
        "id": "jm1Ey-qUHwx-",
        "colab_type": "code",
        "colab": {}
      },
      "source": [
        "def solution(prices):\n",
        "    answer = []\n",
        "    i = 0\n",
        "    while i < len(prices) :\n",
        "        num = prices[i]\n",
        "        i += 1\n",
        "        \n",
        "        for idx in range(i, len(prices)) :\n",
        "            if num > prices[idx] :\n",
        "                break\n",
        "        \n",
        "        answer.append(idx - i +1) \n",
        "\n",
        "    return answer"
      ],
      "execution_count": 1,
      "outputs": []
    },
    {
      "cell_type": "code",
      "metadata": {
        "id": "01HCFIBfITF6",
        "colab_type": "code",
        "colab": {
          "base_uri": "https://localhost:8080/",
          "height": 35
        },
        "outputId": "66c52fcf-aa1f-470d-b441-edd03b3f4720"
      },
      "source": [
        "prices = [1, 2, 3, 2, 3]\n",
        "\n",
        "solution(prices)"
      ],
      "execution_count": 2,
      "outputs": [
        {
          "output_type": "execute_result",
          "data": {
            "text/plain": [
              "[4, 3, 1, 1, 0]"
            ]
          },
          "metadata": {
            "tags": []
          },
          "execution_count": 2
        }
      ]
    }
  ]
}