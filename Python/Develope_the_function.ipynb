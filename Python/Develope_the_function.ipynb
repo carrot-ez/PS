{
  "nbformat": 4,
  "nbformat_minor": 0,
  "metadata": {
    "colab": {
      "name": "Develope the function.ipynb",
      "provenance": [],
      "collapsed_sections": []
    },
    "kernelspec": {
      "name": "python3",
      "display_name": "Python 3"
    }
  },
  "cells": [
    {
      "cell_type": "code",
      "metadata": {
        "id": "jm1Ey-qUHwx-",
        "colab_type": "code",
        "colab": {}
      },
      "source": [
        "import math\n",
        "\n",
        "def solution(progresses, speeds):\n",
        "    answer = []\n",
        "    time_required = []\n",
        "    \n",
        "    for i in range(len(progresses)) :\n",
        "        time = math.ceil( (100 - progresses[i]) / speeds[i] )\n",
        "        time_required.append(time)\n",
        "\n",
        "    while time_required :\n",
        "        time = time_required.pop(0)\n",
        "        count = 1\n",
        "        while time_required and time >= time_required[0] :\n",
        "            time_required.pop(0)\n",
        "            count += 1\n",
        "        \n",
        "        answer.append(count)\n",
        "\n",
        "    return answer"
      ],
      "execution_count": 19,
      "outputs": []
    },
    {
      "cell_type": "code",
      "metadata": {
        "id": "01HCFIBfITF6",
        "colab_type": "code",
        "colab": {
          "base_uri": "https://localhost:8080/",
          "height": 35
        },
        "outputId": "8dae1969-b369-4a68-aa81-5743bc16de3c"
      },
      "source": [
        "progresses = [93,30,55]\n",
        "speeds = [1, 30, 5]\n",
        "\n",
        "solution(progresses, speeds)"
      ],
      "execution_count": 20,
      "outputs": [
        {
          "output_type": "execute_result",
          "data": {
            "text/plain": [
              "[2, 1]"
            ]
          },
          "metadata": {
            "tags": []
          },
          "execution_count": 20
        }
      ]
    }
  ]
}