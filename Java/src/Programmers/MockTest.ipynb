{
  "nbformat": 4,
  "nbformat_minor": 0,
  "metadata": {
    "colab": {
      "name": "MockTest.ipynb",
      "provenance": [],
      "collapsed_sections": []
    },
    "kernelspec": {
      "name": "python3",
      "display_name": "Python 3"
    }
  },
  "cells": [
    {
      "cell_type": "code",
      "metadata": {
        "id": "x-hartH1mOU4",
        "colab_type": "code",
        "colab": {}
      },
      "source": [
        "def solution(answers):\n",
        "    answer = []\n",
        "    \n",
        "    supo1 = [1, 2, 3, 4, 5]\n",
        "    supo2 = [2, 1, 2, 3, 2, 4, 2, 5]\n",
        "    supo3 = [3, 3, 1, 1, 2, 2, 4, 4, 5, 5]\n",
        "\n",
        "    score = [0, 0, 0]\n",
        "    \n",
        "    for i in range(len(answers)) :\n",
        "        if supo1[i % len(supo1)] == answers[i] :\n",
        "            score[0] += 1\n",
        "        if supo2[i % len(supo2)] == answers[i] :\n",
        "            score[1] += 1\n",
        "        if supo3[i % len(supo3)] == answers[i] :\n",
        "            score[2] += 1\n",
        "\n",
        "    max_score = max(score)\n",
        "    for i, e in enumerate(score) :\n",
        "        if e == max_score :\n",
        "            answer.append(i+1)\n",
        "\n",
        "    return answer"
      ],
      "execution_count": 71,
      "outputs": []
    },
    {
      "cell_type": "code",
      "metadata": {
        "id": "cTAXqZ9B6QZy",
        "colab_type": "code",
        "colab": {
          "base_uri": "https://localhost:8080/",
          "height": 35
        },
        "outputId": "564b251b-50c0-43c3-d618-30d53a87717a"
      },
      "source": [
        "solution([1, 3, 2, 4, 2])"
      ],
      "execution_count": 72,
      "outputs": [
        {
          "output_type": "execute_result",
          "data": {
            "text/plain": [
              "[1, 2, 3]"
            ]
          },
          "metadata": {
            "tags": []
          },
          "execution_count": 72
        }
      ]
    }
  ]
}